{
 "cells": [
  {
   "cell_type": "markdown",
   "metadata": {},
   "source": [
    "#       •\tIndian Startup Investment Market Analysis:"
   ]
  },
  {
   "cell_type": "markdown",
   "metadata": {},
   "source": [
    "\n",
    "\n",
    "## Q1\n",
    "## Location where startups has received funding maximum number of times"
   ]
  },
  {
   "cell_type": "code",
   "execution_count": 2,
   "metadata": {},
   "outputs": [],
   "source": [
    "import pandas as pd \n",
    "import numpy as np \n",
    "import matplotlib.pyplot as plt"
   ]
  },
  {
   "cell_type": "code",
   "execution_count": 3,
   "metadata": {},
   "outputs": [],
   "source": [
    "file = pd.read_csv('startup_funding.csv')\n",
    "data = file.copy()"
   ]
  },
  {
   "cell_type": "code",
   "execution_count": 4,
   "metadata": {},
   "outputs": [],
   "source": [
    "def sep(s):\n",
    "    return s.split('/')[0].strip()\n",
    "data.CityLocation.dropna(inplace = True)\n",
    "cities = data.CityLocation.apply(sep)"
   ]
  },
  {
   "cell_type": "code",
   "execution_count": 32,
   "metadata": {},
   "outputs": [],
   "source": [
    "cities.replace('Delhi','New Delhi',inplace = True)\n",
    "cities.replace('bangalore','Bangalore',inplace = True )"
   ]
  },
  {
   "cell_type": "code",
   "execution_count": 34,
   "metadata": {},
   "outputs": [
    {
     "name": "stdout",
     "output_type": "stream",
     "text": [
      "CITIES are as follows:\n",
      "Bangalore 635\n",
      "Mumbai 449\n",
      "New Delhi 389\n",
      "Gurgaon 241\n",
      "Pune 91\n"
     ]
    },
    {
     "data": {
      "image/png": "[encoded data removed]",
      "text/plain": [
       "<Figure size 432x288 with 1 Axes>"
      ]
     },
     "metadata": {
      "needs_background": "light"
     },
     "output_type": "display_data"
    }
   ],
   "source": [
    "print('CITIES are as follows:')\n",
    "city_count = cities.value_counts()[0:5]\n",
    "x = city_count.index\n",
    "y = city_count.values\n",
    "for i in range(len(x)):\n",
    "    print(x[i],y[i])\n",
    "plt.plot(x,y,color = 'red',marker = 'o',linewidth = 2)\n",
    "plt.grid()\n",
    "plt.xlabel('Locations',fontsize = 15)\n",
    "plt.ylabel('number_of_fundings',fontsize = 15)\n",
    "plt.title('location VS freq_of_Funding')\n",
    "plt.show()"
   ]
  },
  {
   "cell_type": "markdown",
   "metadata": {},
   "source": [
    "# Q2\n",
    "## TOP INVESTORS :\n"
   ]
  },
  {
   "cell_type": "code",
   "execution_count": 9,
   "metadata": {},
   "outputs": [
    {
     "data": {
      "text/html": [
       "<div>\n",
       "<style scoped>\n",
       "    .dataframe tbody tr th:only-of-type {\n",
       "        vertical-align: middle;\n",
       "    }\n",
       "\n",
       "    .dataframe tbody tr th {\n",
       "        vertical-align: top;\n",
       "    }\n",
       "\n",
       "    .dataframe thead th {\n",
       "        text-align: right;\n",
       "    }\n",
       "</style>\n",
       "<table border=\"1\" class=\"dataframe\">\n",
       "  <thead>\n",
       "    <tr style=\"text-align: right;\">\n",
       "      <th></th>\n",
       "      <th>SNo</th>\n",
       "      <th>Date</th>\n",
       "      <th>StartupName</th>\n",
       "      <th>IndustryVertical</th>\n",
       "      <th>SubVertical</th>\n",
       "      <th>CityLocation</th>\n",
       "      <th>InvestorsName</th>\n",
       "      <th>InvestmentType</th>\n",
       "      <th>AmountInUSD</th>\n",
       "      <th>Remarks</th>\n",
       "    </tr>\n",
       "  </thead>\n",
       "  <tbody>\n",
       "    <tr>\n",
       "      <th>0</th>\n",
       "      <td>0</td>\n",
       "      <td>01/08/2017</td>\n",
       "      <td>TouchKin</td>\n",
       "      <td>Technology</td>\n",
       "      <td>Predictive Care Platform</td>\n",
       "      <td>Bangalore</td>\n",
       "      <td>Kae Capital</td>\n",
       "      <td>Private Equity</td>\n",
       "      <td>1,300,000</td>\n",
       "      <td>NaN</td>\n",
       "    </tr>\n",
       "    <tr>\n",
       "      <th>1</th>\n",
       "      <td>1</td>\n",
       "      <td>02/08/2017</td>\n",
       "      <td>Ethinos</td>\n",
       "      <td>Technology</td>\n",
       "      <td>Digital Marketing Agency</td>\n",
       "      <td>Mumbai</td>\n",
       "      <td>Triton Investment Advisors</td>\n",
       "      <td>Private Equity</td>\n",
       "      <td>NaN</td>\n",
       "      <td>NaN</td>\n",
       "    </tr>\n",
       "    <tr>\n",
       "      <th>2</th>\n",
       "      <td>2</td>\n",
       "      <td>02/08/2017</td>\n",
       "      <td>Leverage Edu</td>\n",
       "      <td>Consumer Internet</td>\n",
       "      <td>Online platform for Higher Education Services</td>\n",
       "      <td>New Delhi</td>\n",
       "      <td>Kashyap Deorah, Anand Sankeshwar, Deepak Jain,...</td>\n",
       "      <td>Seed Funding</td>\n",
       "      <td>NaN</td>\n",
       "      <td>NaN</td>\n",
       "    </tr>\n",
       "    <tr>\n",
       "      <th>3</th>\n",
       "      <td>3</td>\n",
       "      <td>02/08/2017</td>\n",
       "      <td>Zepo</td>\n",
       "      <td>Consumer Internet</td>\n",
       "      <td>DIY Ecommerce platform</td>\n",
       "      <td>Mumbai</td>\n",
       "      <td>Kunal Shah, LetsVenture, Anupam Mittal, Hetal ...</td>\n",
       "      <td>Seed Funding</td>\n",
       "      <td>500,000</td>\n",
       "      <td>NaN</td>\n",
       "    </tr>\n",
       "    <tr>\n",
       "      <th>4</th>\n",
       "      <td>4</td>\n",
       "      <td>02/08/2017</td>\n",
       "      <td>Click2Clinic</td>\n",
       "      <td>Consumer Internet</td>\n",
       "      <td>healthcare service aggregator</td>\n",
       "      <td>Hyderabad</td>\n",
       "      <td>Narottam Thudi, Shireesh Palle</td>\n",
       "      <td>Seed Funding</td>\n",
       "      <td>850,000</td>\n",
       "      <td>NaN</td>\n",
       "    </tr>\n",
       "  </tbody>\n",
       "</table>\n",
       "</div>"
      ],
      "text/plain": [
       "   SNo        Date   StartupName   IndustryVertical  \\\n",
       "0    0  01/08/2017      TouchKin         Technology   \n",
       "1    1  02/08/2017       Ethinos         Technology   \n",
       "2    2  02/08/2017  Leverage Edu  Consumer Internet   \n",
       "3    3  02/08/2017          Zepo  Consumer Internet   \n",
       "4    4  02/08/2017  Click2Clinic  Consumer Internet   \n",
       "\n",
       "                                     SubVertical CityLocation  \\\n",
       "0                       Predictive Care Platform    Bangalore   \n",
       "1                       Digital Marketing Agency       Mumbai   \n",
       "2  Online platform for Higher Education Services    New Delhi   \n",
       "3                         DIY Ecommerce platform       Mumbai   \n",
       "4                  healthcare service aggregator    Hyderabad   \n",
       "\n",
       "                                       InvestorsName  InvestmentType  \\\n",
       "0                                        Kae Capital  Private Equity   \n",
       "1                         Triton Investment Advisors  Private Equity   \n",
       "2  Kashyap Deorah, Anand Sankeshwar, Deepak Jain,...    Seed Funding   \n",
       "3  Kunal Shah, LetsVenture, Anupam Mittal, Hetal ...    Seed Funding   \n",
       "4                     Narottam Thudi, Shireesh Palle    Seed Funding   \n",
       "\n",
       "  AmountInUSD Remarks  \n",
       "0   1,300,000     NaN  \n",
       "1         NaN     NaN  \n",
       "2         NaN     NaN  \n",
       "3     500,000     NaN  \n",
       "4     850,000     NaN  "
      ]
     },
     "execution_count": 9,
     "metadata": {},
     "output_type": "execute_result"
    }
   ],
   "source": [
    "data.head()"
   ]
  },
  {
   "cell_type": "code",
   "execution_count": 35,
   "metadata": {},
   "outputs": [
    {
     "data": {
      "text/plain": [
       "33"
      ]
     },
     "execution_count": 35,
     "metadata": {},
     "output_type": "execute_result"
    }
   ],
   "source": [
    "len(data[data.InvestorsName ==  'Undisclosed Investors'])"
   ]
  },
  {
   "cell_type": "code",
   "execution_count": 62,
   "metadata": {},
   "outputs": [],
   "source": [
    "data = data[data['InvestorsName']!= 'Undisclosed Investors']\n",
    "data = data[data['InvestorsName']!= 'Undisclosed investors']"
   ]
  },
  {
   "cell_type": "code",
   "execution_count": 63,
   "metadata": {},
   "outputs": [],
   "source": [
    "def namesplit(s):\n",
    "    return s.split(',')\n",
    "data.InvestorsName.dropna(inplace = True)\n",
    "investors = data['InvestorsName'].apply(namesplit)"
   ]
  },
  {
   "cell_type": "code",
   "execution_count": 64,
   "metadata": {
    "scrolled": true
   },
   "outputs": [
    {
     "name": "stdout",
     "output_type": "stream",
     "text": [
      "Top INVESTORS are as follows:\n",
      "Ratan Tata 24\n",
      "Indian Angel Network 24\n",
      "Kalaari Capital 16\n",
      "Group of Angel Investors 15\n",
      "Sequoia Capital 14\n"
     ]
    }
   ],
   "source": [
    "print('Top INVESTORS are as follows:')\n",
    "x = investors.value_counts()[0:5]\n",
    "y = x.index\n",
    "z = x.values\n",
    "for i in range(len(x)):\n",
    "    print(*y[i],z[i])"
   ]
  },
  {
   "cell_type": "code",
   "execution_count": 80,
   "metadata": {},
   "outputs": [
    {
     "data": {
      "text/plain": [
       "([<matplotlib.patches.Wedge at 0x28617b93b38>,\n",
       "  <matplotlib.patches.Wedge at 0x28617bead68>,\n",
       "  <matplotlib.patches.Wedge at 0x28617bf56d8>,\n",
       "  <matplotlib.patches.Wedge at 0x28617c02048>,\n",
       "  <matplotlib.patches.Wedge at 0x28617c02978>],\n",
       " [Text(0.8956570175643273, 0.942230601757221, \"['Ratan Tata']\"),\n",
       "  Text(-0.9863854981212749, 0.8467842990372724, \"['Indian Angel Network']\"),\n",
       "  Text(-0.8811012678926551, -0.6585290849445875, \"['Kalaari Capital']\"),\n",
       "  Text(0.1297522657015329, -1.0923206257987255, \"['Group of Angel Investors']\"),\n",
       "  Text(0.9792622404028744, -0.5010443738044997, \"['Sequoia Capital']\")],\n",
       " [Text(0.5511735492703551, 0.5798342164659821, '25.81%'),\n",
       "  Text(-0.6070064603823229, 0.5210980301767829, '25.81%'),\n",
       "  Text(-0.4806006915778118, -0.35919768269704766, '17.20%'),\n",
       "  Text(0.07077396310992702, -0.5958112504356683, '16.13%'),\n",
       "  Text(0.5341430402197496, -0.2732969311660907, '15.05%')])"
      ]
     },
     "execution_count": 80,
     "metadata": {},
     "output_type": "execute_result"
    },
    {
     "data": {
      "image/png": "[encoded data removed]",
      "text/plain": [
       "<Figure size 432x288 with 1 Axes>"
      ]
     },
     "metadata": {},
     "output_type": "display_data"
    }
   ],
   "source": [
    "explode = (0.2,0.2,0,0,0)\n",
    "labels = y\n",
    "plt.pie(x,autopct = '%.2f%%',explode = explode,labels = labels, shadow = True,textprops={'fontsize': 15})\n"
   ]
  },
  {
   "cell_type": "markdown",
   "metadata": {},
   "source": [
    " if one investor has invested multiple times in one startup, count one for that company"
   ]
  },
  {
   "cell_type": "markdown",
   "metadata": {},
   "source": [
    "# Q3\n",
    "\n",
    "# splitting the investors name with startups: counting the name once for each startup: "
   ]
  },
  {
   "cell_type": "code",
   "execution_count": 53,
   "metadata": {},
   "outputs": [],
   "source": [
    "file = pd.read_csv('startup_funding.csv')\n",
    "data = file.copy()"
   ]
  },
  {
   "cell_type": "code",
   "execution_count": 54,
   "metadata": {},
   "outputs": [],
   "source": [
    "ds=data['StartupName']\n",
    "in_name =data['InvestorsName']\n",
    "d={}\n",
    "i=0\n",
    "for j in in_name:\n",
    "    p=str(j)\n",
    "    q= p.split(\",\")\n",
    "    for e in q:\n",
    "        e = e.strip()\n",
    "        if e in d:\n",
    "            d[e]+=[ds[i]]\n",
    "        else:\n",
    "            d[e]=[ds[i]]\n",
    "    i=i+1"
   ]
  },
  {
   "cell_type": "code",
   "execution_count": 55,
   "metadata": {},
   "outputs": [],
   "source": [
    "for ele in d:\n",
    "    d[ele]=len(set(d[ele]))\n",
    "investor=[]\n",
    "count=[]\n",
    "for i in range(5):\n",
    "    max=-1\n",
    "    for ele in d:\n",
    "        if ele!=\"\":\n",
    "            if max<d[ele]:\n",
    "                max=d[ele]\n",
    "                ct=ele\n",
    "    count.append(max)\n",
    "    investor.append(ct)\n",
    "    del d[ct]"
   ]
  },
  {
   "cell_type": "code",
   "execution_count": 56,
   "metadata": {},
   "outputs": [
    {
     "name": "stdout",
     "output_type": "stream",
     "text": [
      "Top 5 INVESTORS ARE :\n",
      "Sequoia Capital\n",
      "Accel Partners\n",
      "Kalaari Capital\n",
      "Indian Angel Network\n",
      "Blume Ventures\n"
     ]
    }
   ],
   "source": [
    "print('Top 5 INVESTORS ARE :')\n",
    "for i in range(5):\n",
    "    print(investor[i])"
   ]
  },
  {
   "cell_type": "markdown",
   "metadata": {},
   "source": [
    "## Q4->top 5 investors who have invested maximum number of times in different companies\n",
    "if one investor has invested multiple times in one startup, count one for that company."
   ]
  },
  {
   "cell_type": "code",
   "execution_count": 24,
   "metadata": {},
   "outputs": [],
   "source": [
    "file = pd.read_csv('startup_funding.csv')\n",
    "strtup = file.copy()"
   ]
  },
  {
   "cell_type": "code",
   "execution_count": 25,
   "metadata": {},
   "outputs": [],
   "source": [
    "strtup.replace('Olacabs','Ola',inplace=True)\n",
    "strtup.replace('Ola Cabs','Ola',inplace=True)\n",
    "strtup.replace('Flipkart.com','Flipkart',inplace=True) \n",
    "strtup.replace('Paytm Marketplace','Paytm',inplace=True)\n",
    "strtup.replace('Oyo Rooms','Oyo',inplace=True)\n",
    "strtup.replace('Oyorooms','Oyo',inplace=True)\n",
    "strtup.replace('OyoRooms','Oyo',inplace=True) \n",
    "strtup.replace('OYO Rooms','Oyo',inplace=True)\n",
    "strtup['InvestmentType'].replace(\"PrivateEquity\",\"Private Equity\",inplace = True)\n",
    "strtup['InvestmentType'].replace('SeedFunding','Seed Funding',inplace = True)\n",
    "strtup.InvestmentType.replace('Crowd funding','Crowd Funding',inplace = True)\n",
    "strtup['InvestmentType'].dropna(inplace = True)\n",
    "strtup.reset_index(drop=True,inplace=True)\n",
    "df =strtup[(strtup['InvestmentType']=='Seed Funding') | (strtup['InvestmentType']=='Crowd Funding')]\n",
    "df.reset_index(drop=True,inplace=True)\n",
    "\n",
    "ds=df['StartupName']\n",
    "di=df['InvestorsName']\n",
    "d={}\n",
    "i=0\n",
    "for ele in di:\n",
    "    p=str(ele)\n",
    "    q=p.split(\",\")\n",
    "    for e in q:\n",
    "        e = e.strip()\n",
    "        if e in d:\n",
    "            d[e]+=[ds[i]]\n",
    "        else:\n",
    "            d[e]=[ds[i]]\n",
    "    i=i+1\n",
    "    \n",
    "for ele in d:\n",
    "    d[ele]=len(set(d[ele]))\n",
    "investor=[]\n",
    "count=[]\n",
    "for i in range(5):\n",
    "    max=-1\n",
    "    for ele in d:\n",
    "        if ele!=\"\":\n",
    "            if max<d[ele]:\n",
    "                max=d[ele]\n",
    "                ct=ele\n",
    "    count.append(max)\n",
    "    investor.append(ct)\n",
    "    del d[ct]"
   ]
  },
  {
   "cell_type": "code",
   "execution_count": 26,
   "metadata": {},
   "outputs": [
    {
     "name": "stdout",
     "output_type": "stream",
     "text": [
      "Top 5 investors:\n",
      "Indian Angel Network\n",
      "Undisclosed Investors\n",
      "Undisclosed investors\n",
      "Rajan Anandan\n",
      "LetsVenture\n"
     ]
    }
   ],
   "source": [
    "print('Top 5 investors:')\n",
    "for i in investor:\n",
    "    print(i)"
   ]
  },
  {
   "cell_type": "markdown",
   "metadata": {},
   "source": [
    "# Q5  \n",
    "## top 5 investors who have invested in a different number of startups and their investment type is Private Equity"
   ]
  },
  {
   "cell_type": "code",
   "execution_count": 57,
   "metadata": {},
   "outputs": [],
   "source": [
    "file = pd.read_csv('startup_funding.csv')\n",
    "strtup = file.copy()"
   ]
  },
  {
   "cell_type": "code",
   "execution_count": 58,
   "metadata": {},
   "outputs": [],
   "source": [
    "strtup.replace('Olacabs','Ola',inplace=True)\n",
    "strtup.replace('Ola Cabs','Ola',inplace=True)\n",
    "strtup.replace('Flipkart.com','Flipkart',inplace=True) \n",
    "strtup.replace('Paytm Marketplace','Paytm',inplace=True)\n",
    "strtup.replace('Oyo Rooms','Oyo',inplace=True)\n",
    "strtup.replace('Oyorooms','Oyo',inplace=True)\n",
    "strtup.replace('OyoRooms','Oyo',inplace=True) \n",
    "strtup.replace('OYO Rooms','Oyo',inplace=True)\n",
    "strtup['InvestmentType'].replace(\"PrivateEquity\",\"Private Equity\",inplace = True)\n",
    "strtup['InvestmentType'].replace('SeedFunding','Seed Funding',inplace = True)\n",
    "strtup.InvestmentType.replace('Crowd funding','Crowd Funding',inplace = True)\n",
    "strtup['InvestmentType'].dropna(inplace = True)\n",
    "strtup.reset_index(drop=True,inplace=True)\n",
    "df =strtup[(strtup['InvestmentType']=='Private Equity')]\n",
    "df.reset_index(drop=True,inplace=True)\n",
    "\n",
    "ds=df['StartupName']\n",
    "di=df['InvestorsName']\n",
    "d={}\n",
    "i=0\n",
    "for ele in di:\n",
    "    p=str(ele)\n",
    "    q=p.split(\",\")\n",
    "    for e in q:\n",
    "        e = e.strip()\n",
    "        if e in d:\n",
    "            d[e]+=[ds[i]]\n",
    "        else:\n",
    "            d[e]=[ds[i]]\n",
    "    i=i+1\n",
    "    \n",
    "for ele in d:\n",
    "    d[ele]=len(set(d[ele]))\n",
    "investor=[]\n",
    "count=[]\n",
    "for i in range(5):\n",
    "    max=-1\n",
    "    for ele in d:\n",
    "        if ele!=\"\":\n",
    "            if max<d[ele]:\n",
    "                max=d[ele]\n",
    "                ct=ele\n",
    "    count.append(max)\n",
    "    investor.append(ct)\n",
    "    del d[ct]"
   ]
  },
  {
   "cell_type": "code",
   "execution_count": 59,
   "metadata": {},
   "outputs": [
    {
     "name": "stdout",
     "output_type": "stream",
     "text": [
      "Top INVESTORS in PRIVATE EQUITY are as follows\n",
      "Sequoia Capital\n",
      "Accel Partners\n",
      "Kalaari Capital\n",
      "Blume Ventures\n",
      "SAIF Partners\n"
     ]
    }
   ],
   "source": [
    "print('Top INVESTORS in PRIVATE EQUITY are as follows')\n",
    "for i in investor:\n",
    "    print(i)"
   ]
  },
  {
   "cell_type": "code",
   "execution_count": null,
   "metadata": {},
   "outputs": [],
   "source": []
  }
 ],
 "metadata": {
  "kernelspec": {
   "display_name": "Python 3",
   "language": "python",
   "name": "python3"
  },
  "language_info": {
   "codemirror_mode": {
    "name": "ipython",
    "version": 3
   },
   "file_extension": ".py",
   "mimetype": "text/x-python",
   "name": "python",
   "nbconvert_exporter": "python",
   "pygments_lexer": "ipython3",
   "version": "3.7.3"
  }
 },
 "nbformat": 4,
 "nbformat_minor": 2
}
